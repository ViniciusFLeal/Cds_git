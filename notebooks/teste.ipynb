{
 "cells": [
  {
   "cell_type": "markdown",
   "id": "38f8f385",
   "metadata": {},
   "source": [
    "<span style=\"color:red\">**<<<<<<< local**</span>"
   ]
  },
  {
   "cell_type": "code",
   "execution_count": 4,
   "metadata": {},
   "outputs": [
    {
     "name": "stdout",
     "output_type": "stream",
     "text": [
      "main linha 1\n"
     ]
    }
   ],
   "source": [
    "print(\"main linha 1\")"
   ]
  },
  {
   "cell_type": "code",
   "execution_count": 2,
   "metadata": {},
   "outputs": [
    {
     "name": "stdout",
     "output_type": "stream",
     "text": [
      "dev - celular 2\n"
     ]
    }
   ],
   "source": [
    "print(\"dev - celular 2\")"
   ]
  },
  {
   "cell_type": "code",
   "execution_count": 3,
   "metadata": {},
   "outputs": [
    {
     "name": "stdout",
     "output_type": "stream",
     "text": [
      "dev - celular 3\n"
     ]
    }
   ],
   "source": [
    "print(\"dev - celular 3\")"
   ]
  }
 ],
 "metadata": {
  "kernelspec": {
   "display_name": "git",
   "language": "python",
   "name": "python3"
  },
  "language_info": {
   "name": "python",
   "version": "3.9.16"
  },
  "nbdime-conflicts": {
   "local_diff": [
    {
     "key": "language_info",
     "op": "add",
     "value": {
      "name": "python",
      "version": "3.9.16"
     }
    }
   ],
   "remote_diff": [
    {
     "key": "language_info",
     "op": "add",
     "value": {
      "codemirror_mode": {
       "name": "ipython",
       "version": 3
      },
      "file_extension": ".py",
      "mimetype": "text/x-python",
      "name": "python",
      "nbconvert_exporter": "python",
      "pygments_lexer": "ipython3",
      "version": "3.9.16"
     }
    }
   ]
  },
  "vscode": {
   "interpreter": {
    "hash": "dd87b3db04393da1588633907dfdc7017fbb47e7588cb0e2c832165718ed84dd"
   }
  }
 },
 "nbformat": 4,
 "nbformat_minor": 2
}
