{
   "cells": [
      {
         "cell_type": "code",
         "execution_count": 4,
         "metadata": {},
         "outputs": [
            {
               "name": "stdout",
               "output_type": "stream",
               "text": [
                  "main linha 1\n"
               ]
            }
         ],
         "source": [
            "print(\"main linha 1\")"
         ]
      },
      {
         "cell_type": "code",
         "execution_count": 5,
         "metadata": {},
         "outputs": [
            {
               "name": "stdout",
               "output_type": "stream",
               "text": [
                  "main linha 2\n"
               ]
            }
         ],
         "source": [
            "print(\"main linha 2\")"
         ]
      },
      {
         "cell_type": "code",
         "execution_count": 6,
         "metadata": {},
         "outputs": [
            {
               "name": "stdout",
               "output_type": "stream",
               "text": [
                  "main linha 3\n"
               ]
            }
         ],
         "source": [
            "print(\"main linha 3\")"
         ]
      }
   ],
   "metadata": {
      "kernelspec": {
         "display_name": "git",
         "language": "python",
         "name": "python3"
      },
      "language_info": {
         "name": "python",
         "version": "3.9.16"
      },
      "orig_nbformat": 4,
      "vscode": {
         "interpreter": {
            "hash": "dd87b3db04393da1588633907dfdc7017fbb47e7588cb0e2c832165718ed84dd"
         }
      }
   },
   "nbformat": 4,
   "nbformat_minor": 2
}
